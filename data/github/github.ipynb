{
 "cells": [
  {
   "cell_type": "markdown",
   "id": "ec7cfe9c-71e1-4724-86a0-cffe95c7cbb0",
   "metadata": {},
   "source": [
    "# Discussion (GraphQL)"
   ]
  },
  {
   "cell_type": "code",
   "execution_count": 6,
   "id": "119ca989-cf99-47d0-b728-c125965b0e24",
   "metadata": {},
   "outputs": [],
   "source": [
    "import requests\n",
    "import os\n",
    "\n",
    "# GitHub API endpoint for discussions\n",
    "url = \"https://api.github.com/graphql\"\n",
    "\n",
    "# Your personal access token\n",
    "token = os.getenv(\"GITHUB_ACCESS_TOKEN\")\n",
    "headers = {\n",
    "    \"Authorization\": f\"Bearer {token}\",\n",
    "    \"Content-Type\": \"application/json\"\n",
    "}"
   ]
  },
  {
   "cell_type": "code",
   "execution_count": 7,
   "id": "b60a9d96-c914-45a8-b5aa-638f5803ffa3",
   "metadata": {},
   "outputs": [],
   "source": [
    "# GraphQL query to fetch discussions from the Q&A category\n",
    "query = \"\"\"\n",
    "{\n",
    "  repository(owner: \"flyteorg\", name: \"flyte\") {\n",
    "    discussions(first: 1, orderBy: {field: CREATED_AT, direction: DESC}, labels: [\"Q&A\", \"answered\"]) {\n",
    "      nodes {\n",
    "        id\n",
    "        title\n",
    "        url\n",
    "        bodyText\n",
    "        comments(first: 100) {\n",
    "          nodes {\n",
    "            bodyText\n",
    "            author {\n",
    "              login\n",
    "            }\n",
    "            createdAt\n",
    "          }\n",
    "        }\n",
    "      }\n",
    "      pageInfo {\n",
    "        endCursor\n",
    "        hasNextPage\n",
    "      }\n",
    "    }\n",
    "  }\n",
    "}\n",
    "\"\"\""
   ]
  },
  {
   "cell_type": "code",
   "execution_count": 10,
   "id": "37c65c0b-0dda-4fc2-a4ab-2412e1bac5f8",
   "metadata": {},
   "outputs": [],
   "source": [
    "def fetch_discussions():\n",
    "    response = requests.post(url, headers=headers, json={'query': query})\n",
    "    if response.status_code == 200:\n",
    "        print(response.json())\n",
    "        return response.json()\n",
    "        return response.json()['data']['repository']['discussions']['nodes']\n",
    "    else:\n",
    "        print(\"Response content:\", response.text)\n",
    "        raise Exception(f\"Query failed with status code {response.status_code}\")"
   ]
  },
  {
   "cell_type": "code",
   "execution_count": 11,
   "id": "1f3d3c25-a8d9-4735-9440-a03207755d97",
   "metadata": {},
   "outputs": [
    {
     "name": "stdout",
     "output_type": "stream",
     "text": [
      "{'errors': [{'path': ['query', 'repository', 'discussions', 'labels'], 'extensions': {'code': 'argumentNotAccepted', 'name': 'discussions', 'typeName': 'Field', 'argumentName': 'labels'}, 'locations': [{'line': 4, 'column': 74}], 'message': \"Field 'discussions' doesn't accept argument 'labels'\"}]}\n"
     ]
    },
    {
     "ename": "KeyError",
     "evalue": "0",
     "output_type": "error",
     "traceback": [
      "\u001b[0;31m---------------------------------------------------------------------------\u001b[0m",
      "\u001b[0;31mKeyError\u001b[0m                                  Traceback (most recent call last)",
      "Cell \u001b[0;32mIn[11], line 6\u001b[0m\n\u001b[1;32m      4\u001b[0m \u001b[38;5;66;03m# Check if we got the discussion and print the details\u001b[39;00m\n\u001b[1;32m      5\u001b[0m \u001b[38;5;28;01mif\u001b[39;00m latest_discussion:\n\u001b[0;32m----> 6\u001b[0m     discussion \u001b[38;5;241m=\u001b[39m \u001b[43mlatest_discussion\u001b[49m\u001b[43m[\u001b[49m\u001b[38;5;241;43m0\u001b[39;49m\u001b[43m]\u001b[49m  \u001b[38;5;66;03m# Get the latest discussion\u001b[39;00m\n\u001b[1;32m      7\u001b[0m     \u001b[38;5;28mprint\u001b[39m(\u001b[38;5;124mf\u001b[39m\u001b[38;5;124m\"\u001b[39m\u001b[38;5;124mTitle: \u001b[39m\u001b[38;5;132;01m{\u001b[39;00mdiscussion[\u001b[38;5;124m'\u001b[39m\u001b[38;5;124mtitle\u001b[39m\u001b[38;5;124m'\u001b[39m]\u001b[38;5;132;01m}\u001b[39;00m\u001b[38;5;124m\"\u001b[39m)\n\u001b[1;32m      8\u001b[0m     \u001b[38;5;28mprint\u001b[39m(\u001b[38;5;124mf\u001b[39m\u001b[38;5;124m\"\u001b[39m\u001b[38;5;124mURL: \u001b[39m\u001b[38;5;132;01m{\u001b[39;00mdiscussion[\u001b[38;5;124m'\u001b[39m\u001b[38;5;124murl\u001b[39m\u001b[38;5;124m'\u001b[39m]\u001b[38;5;132;01m}\u001b[39;00m\u001b[38;5;124m\"\u001b[39m)\n",
      "\u001b[0;31mKeyError\u001b[0m: 0"
     ]
    }
   ],
   "source": [
    "# Fetch the latest discussion\n",
    "latest_discussion = fetch_discussions()\n",
    "\n",
    "# Check if we got the discussion and print the details\n",
    "if latest_discussion:\n",
    "    discussion = latest_discussion[0]  # Get the latest discussion\n",
    "    print(f\"Title: {discussion['title']}\")\n",
    "    print(f\"URL: {discussion['url']}\")\n",
    "    print(f\"Body: {discussion['bodyText']}\")\n",
    "    print(\"Comments:\")\n",
    "    for comment in discussion['comments']['nodes']:\n",
    "        print(f\"Author: {comment['author']['login']}\")\n",
    "        print(f\"Comment: {comment['bodyText']}\")\n",
    "        print(f\"Created at: {comment['createdAt']}\")\n",
    "else:\n",
    "    print(\"No discussions found.\")"
   ]
  },
  {
   "cell_type": "markdown",
   "id": "9e37b14a-a584-459b-b1c7-f6a9e418d44e",
   "metadata": {},
   "source": []
  }
 ],
 "metadata": {
  "kernelspec": {
   "display_name": "Python 3 (ipykernel)",
   "language": "python",
   "name": "python3"
  },
  "language_info": {
   "codemirror_mode": {
    "name": "ipython",
    "version": 3
   },
   "file_extension": ".py",
   "mimetype": "text/x-python",
   "name": "python",
   "nbconvert_exporter": "python",
   "pygments_lexer": "ipython3",
   "version": "3.9.18"
  }
 },
 "nbformat": 4,
 "nbformat_minor": 5
}
